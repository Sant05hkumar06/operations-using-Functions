{
 "cells": [
  {
   "cell_type": "markdown",
   "id": "intensive-endorsement",
   "metadata": {},
   "source": [
    "## create 2 function to add (add_num())and multiply 2 numbers"
   ]
  },
  {
   "cell_type": "code",
   "execution_count": 1,
   "id": "prime-caribbean",
   "metadata": {},
   "outputs": [
    {
     "name": "stdout",
     "output_type": "stream",
     "text": [
      "enter the value of a:25\n",
      "enter the value of b:35\n",
      "Addition of two number is 60 & Multiplication is 875\n"
     ]
    }
   ],
   "source": [
    "def add_num(x,y):\n",
    "    sum=x+y\n",
    "    return sum\n",
    "\n",
    "def multiply_num(x,y):\n",
    "    product=x*y\n",
    "    return product\n",
    "\n",
    "a=int(input(\"enter the value of a:\"))\n",
    "b=int(input(\"enter the value of b:\"))\n",
    "addition=add_num(a,b)\n",
    "multiplication=multiply_num(a,b)\n",
    "print(f\"Addition of two number is {addition} & Multiplication is {multiplication}\")\n"
   ]
  },
  {
   "cell_type": "markdown",
   "id": "fitted-settle",
   "metadata": {},
   "source": [
    "## marks=[70,80,77,86,99]\n",
    "## write a function to cal the average marks.\n",
    "## write a function to cal the grade of the students based on avg marks (if,elif,else)"
   ]
  },
  {
   "cell_type": "code",
   "execution_count": 3,
   "id": "beginning-blackjack",
   "metadata": {},
   "outputs": [
    {
     "name": "stdout",
     "output_type": "stream",
     "text": [
      "The average of marks is 82.4\n",
      "The student has secured A2 grade\n"
     ]
    }
   ],
   "source": [
    "Marks = [70, 80, 77, 86, 99]\n",
    "def avg_marks(marks):\n",
    "    length=len(marks)\n",
    "    sumation=sum(marks)\n",
    "    avg=sumation/length\n",
    "    return avg\n",
    "x=avg_marks(Marks)\n",
    "print(f\"The average of marks is {x}\")\n",
    "if x>=90:\n",
    "    print(\"The student has secured A1 grade\")\n",
    "elif x>=80 and x<90:\n",
    "    print(\"The student has secured A2 grade\")\n",
    "elif x>=70 and x<80:\n",
    "    print(\"The student has secured B grade\")\n",
    "elif x>=60 and x<70:\n",
    "    print(\"The student has secured C grade\")\n",
    "elif x>=50 and x<60:\n",
    "    print(\"The student has secured D grade\")\n",
    "elif x>=35 and x<50:\n",
    "    print(\"The student has secured E grade\")\n",
    "else:\n",
    "    print(\"The student has secured F grade\")\n"
   ]
  }
 ],
 "metadata": {
  "kernelspec": {
   "display_name": "Python 3",
   "language": "python",
   "name": "python3"
  },
  "language_info": {
   "codemirror_mode": {
    "name": "ipython",
    "version": 3
   },
   "file_extension": ".py",
   "mimetype": "text/x-python",
   "name": "python",
   "nbconvert_exporter": "python",
   "pygments_lexer": "ipython3",
   "version": "3.9.2"
  }
 },
 "nbformat": 4,
 "nbformat_minor": 5
}
